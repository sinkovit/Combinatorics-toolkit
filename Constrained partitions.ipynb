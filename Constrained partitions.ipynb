{
 "cells": [
  {
   "cell_type": "code",
   "execution_count": 94,
   "metadata": {},
   "outputs": [],
   "source": [
    "from scipy.special import comb"
   ]
  },
  {
   "cell_type": "code",
   "execution_count": 95,
   "metadata": {},
   "outputs": [
    {
     "data": {
      "text/plain": [
       "252"
      ]
     },
     "execution_count": 95,
     "metadata": {},
     "output_type": "execute_result"
    }
   ],
   "source": [
    "comb(10, 5, exact=True)"
   ]
  },
  {
   "cell_type": "markdown",
   "metadata": {},
   "source": [
    "n = size of set being partitioned  \n",
    "k = number of partitions  \n",
    "pm = maximum partition size  "
   ]
  },
  {
   "cell_type": "code",
   "execution_count": 120,
   "metadata": {},
   "outputs": [],
   "source": [
    "n = 21; k = 6; pmax = 6"
   ]
  },
  {
   "cell_type": "code",
   "execution_count": 121,
   "metadata": {},
   "outputs": [
    {
     "name": "stdout",
     "output_type": "stream",
     "text": [
      "15504\n"
     ]
    }
   ],
   "source": [
    "# Partition without constraints\n",
    "term0 = comb(n-1, k-1, exact=True)\n",
    "print(term0)"
   ]
  },
  {
   "cell_type": "code",
   "execution_count": 122,
   "metadata": {},
   "outputs": [
    {
     "name": "stdout",
     "output_type": "stream",
     "text": [
      "7 715 6\n",
      "8 495 6\n",
      "9 330 6\n",
      "10 210 6\n",
      "11 126 6\n",
      "12 70 6\n",
      "13 35 6\n",
      "14 15 6\n",
      "15 5 6\n",
      "16 1 6\n",
      "\n",
      "15504 12012 3492\n"
     ]
    }
   ],
   "source": [
    "# First order correction\n",
    "term1 = 0\n",
    "j1_low = pmax+1\n",
    "j1_high = n-k+1\n",
    "\n",
    "for j1 in range(j1_low, j1_high+1):\n",
    "    term1 += comb(n-j1-1, k-2, exact=True) * comb(k, 1 , exact=True)\n",
    "    print(j1, comb(n-j1-1, k-2, exact=True), comb(k, 1 , exact=True))\n",
    "\n",
    "print()\n",
    "print(term0, term1, term0-term1)"
   ]
  },
  {
   "cell_type": "code",
   "execution_count": 123,
   "metadata": {},
   "outputs": [
    {
     "name": "stdout",
     "output_type": "stream",
     "text": [
      "7 7 20 15\n",
      "7 8 10 15\n",
      "7 9 4 15\n",
      "7 10 1 15\n",
      "8 7 10 15\n",
      "8 8 4 15\n",
      "8 9 1 15\n",
      "9 7 4 15\n",
      "9 8 1 15\n",
      "10 7 1 15\n",
      "\n",
      "15504 12012 840 4332\n"
     ]
    }
   ],
   "source": [
    "# Second order correction\n",
    "term2 = 0\n",
    "j1_low = pmax+1\n",
    "j1_high = n - (pmax+1) - (k-2)\n",
    "\n",
    "for j1 in range(j1_low, j1_high+1):\n",
    "    j2_low = pmax+1\n",
    "    j2_high = n - j1 - (k-2)\n",
    "    for j2 in range(j2_low, j2_high+1):\n",
    "        term2 += comb(n-j1-j2-1, k-3, exact=True) * comb(k, 2 , exact=True)\n",
    "        print(j1, j2, comb(n-j1-j2-1, k-3, exact=True), comb(k, 2 , exact=True))\n",
    "\n",
    "print()\n",
    "print(term0, term1, term2, term0-term1+term2)"
   ]
  },
  {
   "cell_type": "code",
   "execution_count": 100,
   "metadata": {},
   "outputs": [
    {
     "name": "stdout",
     "output_type": "stream",
     "text": [
      "\n",
      "3159461968 5006710800 2283421140 297457160 138715148\n"
     ]
    }
   ],
   "source": [
    "# Third order correction\n",
    "term3 = 0\n",
    "j1_low = pmax+1\n",
    "j1_high = n - 2*(pmax+1) - (k-3)\n",
    "\n",
    "for j1 in range(j1_low, j1_high+1):\n",
    "    #print(j1)\n",
    "    j2_low = pmax+1\n",
    "    j2_high = n - j1 - (pmax+1) - (k-3)\n",
    "    for j2 in range(j2_low, j2_high+1):\n",
    "        #print(' ', j2)\n",
    "        j3_low = pmax+1\n",
    "        j3_high = n - j1 - j2 - (k-3)\n",
    "        for j3 in range(j3_low, j3_high+1):\n",
    "            term3 += comb(n-j1-j2-j3-1, k-4, exact=True) * comb(k, 3 , exact=True)\n",
    "            #print('  ', j3)\n",
    "\n",
    "print()\n",
    "print(term0, term1, term2, term3, term0-term1+term2-term3)"
   ]
  },
  {
   "cell_type": "code",
   "execution_count": 101,
   "metadata": {},
   "outputs": [
    {
     "name": "stdout",
     "output_type": "stream",
     "text": [
      "\n",
      "3159461968 5006710800 2283421140 297457160 6126120 144841268\n"
     ]
    }
   ],
   "source": [
    "# Fourth order correction\n",
    "term4 = 0\n",
    "j1_low = pmax+1\n",
    "j1_high = n - 3*(pmax+1) - (k-4)\n",
    "\n",
    "for j1 in range(j1_low, j1_high+1):\n",
    "    j2_low = pmax+1\n",
    "    j2_high = n - j1 - (pmax+1) - (pmax+1) - (k-4)\n",
    "    for j2 in range(j2_low, j2_high+1):\n",
    "        j3_low = pmax+1\n",
    "        j3_high = n - j1 - j2 - (pmax+1) -(k-4)\n",
    "        for j3 in range(j3_low, j3_high+1):\n",
    "            j4_low = pmax+1\n",
    "            j4_high = n - j1 - j2 - j3 - (k-4)\n",
    "            for j4 in range(j4_low, j4_high+1):\n",
    "                term4 += comb(n-j1-j2-j3-j4-1, k-5, exact=True) * comb(k, 4 , exact=True)\n",
    "\n",
    "print()\n",
    "print(term0, term1, term2, term3, term4, term0-term1+term2-term3+term4)"
   ]
  },
  {
   "cell_type": "markdown",
   "metadata": {},
   "source": [
    "## A simpler way?"
   ]
  },
  {
   "cell_type": "code",
   "execution_count": 264,
   "metadata": {},
   "outputs": [
    {
     "name": "stdout",
     "output_type": "stream",
     "text": [
      "order =  1\n",
      "order =  2\n",
      "order =  3\n",
      "order =  4\n",
      "order =  5\n",
      "order =  6\n",
      "order =  7\n",
      "order =  8\n",
      "11899700525790 -11736588053196 163112472594\n"
     ]
    }
   ],
   "source": [
    "import copy\n",
    "from scipy.special import comb\n",
    "\n",
    "# Set parameters\n",
    "# n = number of elements\n",
    "# k = number of bins\n",
    "# bmax = max number of elements in a bin\n",
    "n = 56; k = 16; bmax = 6\n",
    "\n",
    "# Set the maximum order for the corrections\n",
    "ordermax = int(n/(bmax+1))\n",
    "\n",
    "# Calculate the number of ways of assigning elements to bins w/o constraints\n",
    "unconstrained = comb(n-1, k-1, exact=True)\n",
    "\n",
    "# Determine the possible sets of bins containing number of elements exceeding constraint\n",
    "large_bins = []\n",
    "for order in range(1, ordermax+1):\n",
    "    large_bins.append([])\n",
    "for order in range(1, ordermax+1):\n",
    "    print('order = ', order)\n",
    "    if order == 1:\n",
    "        for i in range(bmax+1, n-k+2):\n",
    "            large_bins[order].append([i])        \n",
    "    else:\n",
    "        for bin1 in large_bins[order-1]:\n",
    "            for bin2 in large_bins[1]:\n",
    "                if sum(bin1) + sum(bin2) <= n-k+order:\n",
    "                    temp = copy.copy(bin1)\n",
    "                    temp.append(bin2[0])\n",
    "                    large_bins[order].append(temp)\n",
    "large_bins.remove([])\n",
    "\n",
    "# Calculate the correction with constraints\n",
    "# using principle of inclusions and exclusion\n",
    "correction = 0\n",
    "for x in large_bins:\n",
    "    for y in x:\n",
    "        blen = len(y)\n",
    "        bsum = sum(y)\n",
    "        term = comb(n-bsum-1, k-blen-1, exact=True) * comb(k, blen, exact=True) * (-1)**blen\n",
    "        correction += term\n",
    "\n",
    "print(unconstrained, correction, unconstrained+correction)"
   ]
  },
  {
   "cell_type": "code",
   "execution_count": 263,
   "metadata": {},
   "outputs": [],
   "source": [
    "if [] in large_bins:\n",
    "    print(\"yes\")"
   ]
  },
  {
   "cell_type": "code",
   "execution_count": null,
   "metadata": {},
   "outputs": [],
   "source": [
    "### Extra ###\n",
    "import copy\n",
    "from scipy.special import comb\n",
    "\n",
    "# Set parameters\n",
    "# n = number of elements\n",
    "# k = number of bins\n",
    "# pmax = max number of bin elements\n",
    "n = 42; k = 12; pmax = 6\n",
    "\n",
    "bmin = pmax+1\n",
    "bmax = n-k+1\n",
    "ordermax = int(n/(pmax+1))\n",
    "\n",
    "unconstrained = comb(n-1, k-1, exact=True)\n",
    "\n",
    "large_bins = []\n",
    "for order in range(1, ordermax+1):\n",
    "    large_bins.append([])\n",
    "\n",
    "for order in range(1, ordermax+1):\n",
    "    print('order = ', order)\n",
    "    if order == 1:\n",
    "        for i in range(bmin, bmax+1):\n",
    "            large_bins[order].append([i])        \n",
    "    else:\n",
    "        for bin1 in large_bins[order-1]:\n",
    "            for bin2 in large_bins[1]:\n",
    "                if sum(bin1) + sum(bin2) <= n-k+order:\n",
    "                    temp = copy.copy(bin1)\n",
    "                    temp.append(bin2[0])\n",
    "                    large_bins[order].append(temp)\n",
    "\n",
    "large_bins.remove([])\n",
    "\n",
    "correction = 0\n",
    "for x in large_bins:\n",
    "    for y in x:\n",
    "        blen = len(y)\n",
    "        bsum = sum(y)\n",
    "        term = comb(n-bsum-1, k-blen-1, exact=True) * comb(k, blen, exact=True) * (-1)**blen\n",
    "        correction += term\n",
    "\n",
    "print(unconstrained, correction, unconstrained+correction)"
   ]
  }
 ],
 "metadata": {
  "kernelspec": {
   "display_name": "Python 3",
   "language": "python",
   "name": "python3"
  },
  "language_info": {
   "codemirror_mode": {
    "name": "ipython",
    "version": 3
   },
   "file_extension": ".py",
   "mimetype": "text/x-python",
   "name": "python",
   "nbconvert_exporter": "python",
   "pygments_lexer": "ipython3",
   "version": "3.8.5"
  }
 },
 "nbformat": 4,
 "nbformat_minor": 4
}
