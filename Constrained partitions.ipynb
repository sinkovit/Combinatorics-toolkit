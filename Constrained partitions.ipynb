{
 "cells": [
  {
   "cell_type": "code",
   "execution_count": 79,
   "metadata": {},
   "outputs": [],
   "source": [
    "from scipy.special import comb"
   ]
  },
  {
   "cell_type": "code",
   "execution_count": 80,
   "metadata": {},
   "outputs": [
    {
     "data": {
      "text/plain": [
       "252"
      ]
     },
     "execution_count": 80,
     "metadata": {},
     "output_type": "execute_result"
    }
   ],
   "source": [
    "comb(10, 5, exact=True)"
   ]
  },
  {
   "cell_type": "markdown",
   "metadata": {},
   "source": [
    "n = size of set being partitioned  \n",
    "k = number of partitions  \n",
    "pm = maximum partition size  "
   ]
  },
  {
   "cell_type": "code",
   "execution_count": 81,
   "metadata": {},
   "outputs": [],
   "source": [
    "n = 35; k = 10; pm = 6"
   ]
  },
  {
   "cell_type": "code",
   "execution_count": 82,
   "metadata": {},
   "outputs": [
    {
     "name": "stdout",
     "output_type": "stream",
     "text": [
      "52451256\n"
     ]
    }
   ],
   "source": [
    "# Partition without constraints\n",
    "term0 = comb(n-1, k-1, exact=True)\n",
    "print(term0)"
   ]
  },
  {
   "cell_type": "code",
   "execution_count": 83,
   "metadata": {},
   "outputs": [
    {
     "name": "stdout",
     "output_type": "stream",
     "text": [
      "7\n",
      "8\n",
      "9\n",
      "10\n",
      "11\n",
      "12\n",
      "13\n",
      "14\n",
      "15\n",
      "16\n",
      "17\n",
      "18\n",
      "19\n",
      "20\n",
      "21\n",
      "22\n",
      "23\n",
      "24\n",
      "25\n",
      "26\n",
      "\n",
      "52451256 69069000 -16617744\n"
     ]
    }
   ],
   "source": [
    "# First order correction\n",
    "term1 = 0\n",
    "j1_low = pm+1\n",
    "j1_high = n-k+1\n",
    "\n",
    "for j1 in range(j1_low, j1_high+1):\n",
    "    term1 += comb(n-j1-1, k-2, exact=True) * comb(k, 1 , exact=True)\n",
    "    print(j1)\n",
    "\n",
    "print()\n",
    "print(term0, term1, term0-term1)"
   ]
  },
  {
   "cell_type": "code",
   "execution_count": 84,
   "metadata": {},
   "outputs": [
    {
     "name": "stdout",
     "output_type": "stream",
     "text": [
      "\n",
      "52451256 69069000 22383900 5766156\n"
     ]
    }
   ],
   "source": [
    "# Second order correction\n",
    "term2 = 0\n",
    "j1_low = pm+1\n",
    "j1_high = n - (pm+1) - (k-2)\n",
    "\n",
    "for j1 in range(j1_low, j1_high+1):\n",
    "    #print(j1)\n",
    "    j2_low = pm+1\n",
    "    j2_high = n - j1 - (k-2)\n",
    "    for j2 in range(j2_low, j2_high+1):\n",
    "        term2 += comb(n-j1-j2-1, k-3, exact=True) * comb(k, 2 , exact=True)\n",
    "        #print(' ', j2)\n",
    "\n",
    "print()\n",
    "print(term0, term1, term2, term0-term1+term2)"
   ]
  },
  {
   "cell_type": "code",
   "execution_count": 89,
   "metadata": {},
   "outputs": [
    {
     "name": "stdout",
     "output_type": "stream",
     "text": [
      "\n",
      "52451256 69069000 22383900 1372800 4393356\n"
     ]
    }
   ],
   "source": [
    "# Third order correction\n",
    "term3 = 0\n",
    "j1_low = pm+1\n",
    "j1_high = n - 2*(pm+1) - (k-3)\n",
    "\n",
    "for j1 in range(j1_low, j1_high+1):\n",
    "    #print(j1)\n",
    "    j2_low = pm+1\n",
    "    j2_high = n - j1 - (pm+1) - (k-3)\n",
    "    for j2 in range(j2_low, j2_high+1):\n",
    "        #print(' ', j2)\n",
    "        j3_low = pm+1\n",
    "        j3_high = n - j1 - j2 - (k-3)\n",
    "        for j3 in range(j3_low, j3_high+1):\n",
    "            term3 += comb(n-j1-j2-j3-1, k-4, exact=True) * comb(k, 3 , exact=True)\n",
    "            #print('  ', j3)\n",
    "\n",
    "print()\n",
    "print(term0, term1, term2, term3, term0-term1+term2-term3)"
   ]
  },
  {
   "cell_type": "code",
   "execution_count": 90,
   "metadata": {},
   "outputs": [
    {
     "name": "stdout",
     "output_type": "stream",
     "text": [
      "\n",
      "52451256 69069000 22383900 1372800 2100 4395456\n"
     ]
    }
   ],
   "source": [
    "# Fourth order correction\n",
    "term4 = 0\n",
    "j1_low = pm+1\n",
    "j1_high = n - 3*(pm+1) - (k-4)\n",
    "\n",
    "for j1 in range(j1_low, j1_high+1):\n",
    "    j2_low = pm+1\n",
    "    j2_high = n - j1 - (pm+1) - (pm+1) - (k-4)\n",
    "    for j2 in range(j2_low, j2_high+1):\n",
    "        j3_low = pm+1\n",
    "        j3_high = n - j1 - j2 - (pm+1) -(k-4)\n",
    "        for j3 in range(j3_low, j3_high+1):\n",
    "            j4_low = pm+1\n",
    "            j4_high = n - j1 - j2 - j3 - (k-4)\n",
    "            for j4 in range(j4_low, j4_high+1):\n",
    "                term4 += comb(n-j1-j2-j3-j4-1, k-5, exact=True) * comb(k, 4 , exact=True)\n",
    "\n",
    "print()\n",
    "print(term0, term1, term2, term3, term4, term0-term1+term2-term3+term4)"
   ]
  },
  {
   "cell_type": "code",
   "execution_count": null,
   "metadata": {},
   "outputs": [],
   "source": []
  }
 ],
 "metadata": {
  "kernelspec": {
   "display_name": "Python 3",
   "language": "python",
   "name": "python3"
  },
  "language_info": {
   "codemirror_mode": {
    "name": "ipython",
    "version": 3
   },
   "file_extension": ".py",
   "mimetype": "text/x-python",
   "name": "python",
   "nbconvert_exporter": "python",
   "pygments_lexer": "ipython3",
   "version": "3.8.5"
  }
 },
 "nbformat": 4,
 "nbformat_minor": 4
}
