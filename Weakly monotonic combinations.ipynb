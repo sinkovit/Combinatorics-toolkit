{
 "cells": [
  {
   "cell_type": "markdown",
   "metadata": {},
   "source": [
    "# Weakly monotonic combinations"
   ]
  },
  {
   "cell_type": "markdown",
   "metadata": {},
   "source": [
    "Given an alphabet of size n, how many string of length k can we form such that each subsequent character is either identical to or occurs later in the alphabet than the previous character? For example, given an alphabet {A, B, C, D} and string of length 4, the following 20 strings satisfy this condition. \n",
    "\n",
    "DDD, CDD, CCD, CCC, BDD, BCD, BCC, BBC, BBC, BBB, ADD, ACD, ACC, ABD, ABC, ABB, AAD, AAC, AAB, AAA\n",
    "\n",
    "These can be found by starting with the allowed strings of length one\n",
    "\n",
    "D, C, B, A\n",
    "\n",
    "and then noting that strings of length two could be obtained by prepending D to the first string of length one, C to the first two strings of length one and so on.\n",
    "\n",
    "DD, CD, CC, BD, BC, BB, AD, AC, AB, AA\n",
    "\n",
    "Strings of length three are then obtained by prepending D to the first string of length two, C to the first three strings of length two etc.\n",
    "\n",
    "To get the number of strings satisfying the conditions, we start with the array \\[1, 1, 1, 1\\], which represents the number of string of length one starting with D, C, B and A, respectively. We then apply the cummulative sum operation to get a new array representing the number of strings of length two starting with D, C, B and A. Applying recursively, we can find the numbers of strings of length k starting with each character. The total number of allowed strings of length k is then simply the sum over this array.\n",
    "\n",
    "```\n",
    "k  array         # allowed strings\n",
    "1  [1 1 1 1]       4\n",
    "2  [1 2 3 4]      10\n",
    "3  [1 3 6 10]     20\n",
    "4  [1 4 10 20]    35\n",
    "5  [1 5 15 35]    56\n",
    "```\n"
   ]
  },
  {
   "cell_type": "code",
   "execution_count": 1,
   "metadata": {},
   "outputs": [],
   "source": [
    "import numpy as np"
   ]
  },
  {
   "cell_type": "code",
   "execution_count": 28,
   "metadata": {},
   "outputs": [
    {
     "name": "stdout",
     "output_type": "stream",
     "text": [
      "[1 1 1 1] 4\n",
      "[1 2 3 4] 10\n",
      "[ 1  3  6 10] 20\n",
      "[ 1  4 10 20] 35\n",
      "[ 1  5 15 35] 56\n"
     ]
    }
   ],
   "source": [
    "n = 4 # size of alphabet\n",
    "k = 5 # string length\n",
    "\n",
    "b = np.ones(n, dtype=np.uint)\n",
    "print(b, np.sum(b))\n",
    "\n",
    "for j in range(2, k+1):\n",
    "    b = np.cumsum(b)\n",
    "    print(b, np.sum(b))"
   ]
  },
  {
   "cell_type": "code",
   "execution_count": 25,
   "metadata": {},
   "outputs": [
    {
     "data": {
      "text/plain": [
       "1"
      ]
     },
     "execution_count": 25,
     "metadata": {},
     "output_type": "execute_result"
    }
   ],
   "source": [
    "b[0]"
   ]
  },
  {
   "cell_type": "code",
   "execution_count": null,
   "metadata": {},
   "outputs": [],
   "source": []
  }
 ],
 "metadata": {
  "kernelspec": {
   "display_name": "Python 3",
   "language": "python",
   "name": "python3"
  },
  "language_info": {
   "codemirror_mode": {
    "name": "ipython",
    "version": 3
   },
   "file_extension": ".py",
   "mimetype": "text/x-python",
   "name": "python",
   "nbconvert_exporter": "python",
   "pygments_lexer": "ipython3",
   "version": "3.8.5"
  }
 },
 "nbformat": 4,
 "nbformat_minor": 4
}
