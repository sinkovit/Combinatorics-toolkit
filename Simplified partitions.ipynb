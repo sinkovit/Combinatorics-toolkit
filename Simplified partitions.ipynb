{
 "cells": [
  {
   "cell_type": "code",
   "execution_count": 1,
   "metadata": {},
   "outputs": [],
   "source": [
    "from scipy.special import comb"
   ]
  },
  {
   "cell_type": "code",
   "execution_count": 179,
   "metadata": {},
   "outputs": [],
   "source": [
    "def nkcount(n, k, bmin=1, bmax=None):\n",
    "    \n",
    "    # n = number of objects\n",
    "    # k = number of bins\n",
    "    # bmin = minimum occupancy of a bin\n",
    "    # bmax = maximum occupancy of a bin\n",
    "    #\n",
    "    # returns \n",
    "    # (1) number of combinations without upper limit on bin occupancy\n",
    "    # (2) correction due to upper limit\n",
    "    # (3) number of combinations with upper limit on bin occupancy\n",
    "    \n",
    "    # Handle case where minimum number of elements per bin is greater than 1\n",
    "    # Basically shifts the number of elements by (bmin-1)*k\n",
    "    # and similarly reduces bmax\n",
    "    if bmin > 1:\n",
    "        n -= (bmin-1) * k\n",
    "        bmax -= (bmin-1)\n",
    "    \n",
    "    unconstrained = comb(n-1, k-1, exact=True)\n",
    "    correction = 0\n",
    "    \n",
    "    # Short cuts: \n",
    "    # (1) no constraints on max bin size - use standard formula\n",
    "    # (2) all bins have same occupancy (bmax*k = n)\n",
    "    # (3) too many elements to fill bins with constraints\n",
    "    if bmax is None:\n",
    "        return(unconstrained, correction, unconstrained+correction)\n",
    "    elif bmax*k == n:\n",
    "        return(unconstrained, 1-unconstrained, 1)\n",
    "    if(bmax*k < n):\n",
    "        return(0, 0, 0)\n",
    "\n",
    "    # If we made it to here, need to calculate correction base on\n",
    "    # principle of inclusion and exclusion (PIE)\n",
    "    for nlarge in range(bmax+1, n+1):\n",
    "        nsmall = n - nlarge\n",
    "        for klarge in range(1, k):\n",
    "            ksmall = k - klarge\n",
    "            csmall = comb(nsmall-1, ksmall-1, exact=True)\n",
    "            clarge = comb(nlarge - klarge*bmax - 1, klarge-1, exact=True)\n",
    "            cselect = comb(k, klarge, exact=True)\n",
    "            sign = (-1)**klarge\n",
    "            term = csmall * clarge * cselect * sign\n",
    "            #print(nlarge, klarge, clarge, '/', nsmall, ksmall, csmall, '/', cselect, sign, term)\n",
    "            correction += term\n",
    "        \n",
    "    return(unconstrained, correction, unconstrained+correction)"
   ]
  },
  {
   "cell_type": "code",
   "execution_count": 180,
   "metadata": {},
   "outputs": [
    {
     "name": "stdout",
     "output_type": "stream",
     "text": [
      "(480700, -355112, 125588)   expect 125588\n",
      "(657800, -524512, 133288)   expect 133288\n",
      "(888030, -752076, 135954)   expect 135954\n",
      "(1184040, -1050752, 133288) expect 133288\n",
      "(1560780, -1435192, 125588) expect 125588\n",
      "(2035800, -1922112, 113688) expect 113688\n",
      "\n",
      "(19448, -6308, 13140)       expect 13140\n",
      "(31824, -13504, 18320)      expect 18320\n",
      "(50388, -26448, 23940)      expect 23940\n",
      "(77520, -48120, 29400)      expect 29400\n",
      "(116280, -82280, 34000)     expect 34000\n",
      "(170544, -133464, 37080)    expect 37080\n",
      "\n",
      "(36, 0, 36)                 expect 36\n",
      "(120, 0, 120)               expect 120\n",
      "(330, -8, 322)              expect 322\n",
      "(792, -64, 728)             expect 728\n",
      "(1716, -288, 1428)          expect 1428\n",
      "(3432, -960, 2472)          expect 2472\n"
     ]
    }
   ],
   "source": [
    "print(nkcount(26, 8, 1, 6), '  expect 125588')\n",
    "print(nkcount(27, 8, 1, 6), '  expect 133288')\n",
    "print(nkcount(28, 8, 1, 6), '  expect 135954')\n",
    "print(nkcount(29, 8, 1, 6), 'expect 133288')\n",
    "print(nkcount(30, 8, 1, 6), 'expect 125588')\n",
    "print(nkcount(31, 8, 1, 6), 'expect 113688')\n",
    "print()\n",
    "print(nkcount(26, 8, 2, 6), '      expect 13140')\n",
    "print(nkcount(27, 8, 2, 6), '     expect 18320')\n",
    "print(nkcount(28, 8, 2, 6), '     expect 23940')\n",
    "print(nkcount(29, 8, 2, 6), '     expect 29400')\n",
    "print(nkcount(30, 8, 2, 6), '    expect 34000')\n",
    "print(nkcount(31, 8, 2, 6), '   expect 37080')\n",
    "print()\n",
    "print(nkcount(26, 8, 3, 6), '                expect 36')\n",
    "print(nkcount(27, 8, 3, 6), '              expect 120')\n",
    "print(nkcount(28, 8, 3, 6), '             expect 322')\n",
    "print(nkcount(29, 8, 3, 6), '            expect 728')\n",
    "print(nkcount(30, 8, 3, 6), '         expect 1428')\n",
    "print(nkcount(31, 8, 3, 6), '         expect 2472')"
   ]
  },
  {
   "cell_type": "markdown",
   "metadata": {},
   "source": [
    "## Experiments"
   ]
  },
  {
   "cell_type": "code",
   "execution_count": 183,
   "metadata": {},
   "outputs": [],
   "source": [
    "def nkcount(n, k, bmin=1, bmax=None):\n",
    "    \n",
    "    # n = number of objects\n",
    "    # k = number of bins\n",
    "    # bmin = minimum occupancy of a bin\n",
    "    # bmax = maximum occupancy of a bin\n",
    "    #\n",
    "    # returns \n",
    "    # (1) number of combinations without upper limit on bin occupancy\n",
    "    # (2) correction due to upper limit\n",
    "    # (3) number of combinations with upper limit on bin occupancy\n",
    "    \n",
    "    # Handle case where minimum number of elements per bin is greater than 1\n",
    "    # Basically shifts the number of elements by (bmin-1)*k\n",
    "    # and similarly reduces bmax\n",
    "    if bmin > 1:\n",
    "        n -= (bmin-1) * k\n",
    "        bmax -= (bmin-1)\n",
    "    \n",
    "    if bmin == 0:\n",
    "        unconstrained = comb(n-1+k, k-1, exact=True)\n",
    "        correction = 0\n",
    "        tweak = 1\n",
    "    else:\n",
    "        unconstrained = comb(n-1+k, k-1, exact=True)\n",
    "        correction = 0     \n",
    "        tweak = 0\n",
    "    \n",
    "    # Short cuts: \n",
    "    # (1) no constraints on max bin size - use standard formula\n",
    "    # (2) all bins have same occupancy (bmax*k = n)\n",
    "    # (3) too many elements to fill bins with constraints\n",
    "    if bmax is None:\n",
    "        return(unconstrained, correction, unconstrained+correction)\n",
    "    elif bmax*k == n:\n",
    "        return(unconstrained, 1-unconstrained, 1)\n",
    "    if(bmax*k < n):\n",
    "        return(0, 0, 0)\n",
    "\n",
    "    # If we made it to here, need to calculate correction base on\n",
    "    # principle of inclusion and exclusion (PIE)\n",
    "    for nlarge in range(bmax+1, n+1):\n",
    "        nsmall = n - nlarge\n",
    "        for klarge in range(1, k):\n",
    "            ksmall = k - klarge\n",
    "            csmall = comb(nsmall-1 + tweak*ksmall, ksmall-1, exact=True)\n",
    "            clarge = comb(nlarge - klarge*bmax - 1, klarge-1, exact=True)\n",
    "            cselect = comb(k, klarge, exact=True)\n",
    "            sign = (-1)**klarge\n",
    "            term = csmall * clarge * cselect * sign\n",
    "            correction += term\n",
    "        \n",
    "    return(unconstrained, correction, unconstrained+correction)"
   ]
  },
  {
   "cell_type": "code",
   "execution_count": 187,
   "metadata": {},
   "outputs": [
    {
     "name": "stdout",
     "output_type": "stream",
     "text": [
      "(4272048, -3895888, 376160)     expect 376160\n",
      "(12620256, -12426376, 193880)   expect 193880\n",
      "(32224114, -32180062, 44052)    expect 44052\n"
     ]
    }
   ],
   "source": [
    "print(nkcount(26, 8, 0, 6), '    expect 376160')\n",
    "print(nkcount(31, 8, 0, 6), '  expect 193880')\n",
    "print(nkcount(36, 8, 0, 6), '   expect 44052')"
   ]
  },
  {
   "cell_type": "code",
   "execution_count": null,
   "metadata": {},
   "outputs": [],
   "source": []
  }
 ],
 "metadata": {
  "kernelspec": {
   "display_name": "Python 3",
   "language": "python",
   "name": "python3"
  },
  "language_info": {
   "codemirror_mode": {
    "name": "ipython",
    "version": 3
   },
   "file_extension": ".py",
   "mimetype": "text/x-python",
   "name": "python",
   "nbconvert_exporter": "python",
   "pygments_lexer": "ipython3",
   "version": "3.8.5"
  }
 },
 "nbformat": 4,
 "nbformat_minor": 4
}
