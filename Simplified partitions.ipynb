{
 "cells": [
  {
   "cell_type": "code",
   "execution_count": 1,
   "metadata": {},
   "outputs": [],
   "source": [
    "from scipy.special import comb"
   ]
  },
  {
   "cell_type": "code",
   "execution_count": 11,
   "metadata": {},
   "outputs": [],
   "source": [
    "n = 56; k = 16; bmax = 6"
   ]
  },
  {
   "cell_type": "code",
   "execution_count": 12,
   "metadata": {},
   "outputs": [
    {
     "name": "stdout",
     "output_type": "stream",
     "text": [
      "11899700525790 -11736588053196 163112472594\n"
     ]
    }
   ],
   "source": [
    "unconstrained = comb(n-1, k-1, exact=True)\n",
    "correction = 0\n",
    "\n",
    "for nlarge in range(bmax+1, n+1):\n",
    "    nsmall = n - nlarge\n",
    "    for klarge in range(1, int(nlarge/(bmax+1))+1):\n",
    "        ksmall = k - klarge\n",
    "        csmall = comb(nsmall-1, ksmall-1, exact=True)\n",
    "        clarge = comb(nlarge - klarge*bmax -1, klarge-1, exact=True)\n",
    "        cselect = comb(k, klarge, exact=True)\n",
    "        sign = (-1)**klarge\n",
    "        term = csmall * clarge * cselect * sign\n",
    "        correction += term\n",
    "        \n",
    "print(unconstrained, correction, unconstrained+correction)"
   ]
  },
  {
   "cell_type": "code",
   "execution_count": null,
   "metadata": {},
   "outputs": [],
   "source": []
  }
 ],
 "metadata": {
  "kernelspec": {
   "display_name": "Python 3",
   "language": "python",
   "name": "python3"
  },
  "language_info": {
   "codemirror_mode": {
    "name": "ipython",
    "version": 3
   },
   "file_extension": ".py",
   "mimetype": "text/x-python",
   "name": "python",
   "nbconvert_exporter": "python",
   "pygments_lexer": "ipython3",
   "version": "3.8.5"
  }
 },
 "nbformat": 4,
 "nbformat_minor": 4
}
